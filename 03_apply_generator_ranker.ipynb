{
 "cells": [
  {
   "cell_type": "code",
   "execution_count": 10,
   "metadata": {},
   "outputs": [],
   "source": [
    "import json\n",
    "from pathlib import Path\n",
    "from typing import Tuple\n",
    "\n",
    "import pandas as pd\n",
    "import numpy as np\n",
    "import matplotlib.pyplot as plt\n",
    "\n",
    "from scipy.sparse import csr_matrix\n",
    "from sklearn.preprocessing import LabelEncoder\n",
    "from implicit.als import AlternatingLeastSquares\n",
    "\n",
    "from catboost import (\n",
    "    CatBoostClassifier, \n",
    "    Pool\n",
    ")\n",
    "from catboost.metrics import (\n",
    "    BalancedAccuracy, \n",
    "    Logloss\n",
    ")"
   ]
  },
  {
   "cell_type": "markdown",
   "metadata": {},
   "source": [
    "### Read data"
   ]
  },
  {
   "cell_type": "code",
   "execution_count": 7,
   "metadata": {},
   "outputs": [],
   "source": [
    "data_path = Path('data/hse')\n",
    "\n",
    "def meta_to_df(meta_raw):\n",
    "    element_uid = []\n",
    "    duration = []\n",
    "    type_ = []\n",
    "    for k, v in meta_raw.items():\n",
    "        element_uid.append(int(k))\n",
    "        duration.append(float(v['duration']) * 60)\n",
    "        type_.append(v['type'])\n",
    "    meta = pd.DataFrame({\n",
    "        'element_uid': element_uid,\n",
    "        'duration': duration,\n",
    "        'type': type_,\n",
    "    })\n",
    "    return meta\n",
    "\n",
    "ratings = pd.read_csv(data_path / 'train_ratings.csv')\n",
    "bookmarks = pd.read_csv(data_path / 'train_bookmarks.csv')\n",
    "transactions = pd.read_csv(data_path / 'train_transactions.csv')\n",
    "\n",
    "with open(data_path / 'catalogue.json', 'r') as f:\n",
    "    meta_raw = json.load(f)\n",
    "    meta = meta_to_df(meta_raw)"
   ]
  },
  {
   "cell_type": "markdown",
   "metadata": {},
   "source": [
    "### Load CatBoost model"
   ]
  },
  {
   "cell_type": "code",
   "execution_count": 11,
   "metadata": {},
   "outputs": [],
   "source": [
    "catboost_ranker = CatBoostClassifier().load_model('data/catboost_full.cbm')"
   ]
  },
  {
   "cell_type": "markdown",
   "metadata": {},
   "source": [
    "### Generator code"
   ]
  },
  {
   "cell_type": "code",
   "execution_count": 4,
   "metadata": {},
   "outputs": [],
   "source": [
    "def add_meta_to_transactions(transactions, meta):\n",
    "    transactions_with_meta = (\n",
    "        transactions\n",
    "        .merge(meta[[\n",
    "            'element_uid', \n",
    "            'duration',\n",
    "            'type',\n",
    "        ]], on='element_uid', how='left')\n",
    "    )\n",
    "\n",
    "    transactions_with_meta['watched_ratio'] = (\n",
    "        transactions_with_meta['watched_time'] / \n",
    "        transactions_with_meta['duration']\n",
    "    )\n",
    "\n",
    "    def score_transaction(t):\n",
    "        score = 1\n",
    "        if t['duration'] > 0:\n",
    "            if t['type'] == 'movie':\n",
    "                if t['watched_ratio'] > 0.3:\n",
    "                    score = int(t['watched_ratio'] * 9) + 1\n",
    "            else:\n",
    "                if t['watched_ratio'] > 1:\n",
    "                    score = int(t['watched_ratio'] / 2) + 1\n",
    "        return min(score, 10)\n",
    "\n",
    "    transactions_with_meta['score'] = transactions_with_meta.apply(score_transaction, axis=1)\n",
    "\n",
    "    return transactions_with_meta\n",
    "\n",
    "\n",
    "def add_ratings_to_transactions(transactions, ratings):\n",
    "    transactions_with_ratings = (\n",
    "        transactions\n",
    "        .merge(\n",
    "            ratings[['user_uid', 'element_uid', 'rating']],\n",
    "            on=['user_uid', 'element_uid'],\n",
    "            how='outer'\n",
    "        )\n",
    "    )\n",
    "\n",
    "    transactions_with_ratings['score'].fillna(\n",
    "        transactions_with_ratings['rating'], inplace=True)\n",
    "\n",
    "    return transactions_with_ratings\n",
    "\n",
    "\n",
    "def encode_tfidf_coo(transactions: pd.DataFrame) -> pd.DataFrame:\n",
    "    score_sum_per_user = (\n",
    "        transactions\n",
    "        .groupby('user_uid')['score']\n",
    "        .transform('sum')\n",
    "    )\n",
    "    user_count_per_element = (\n",
    "        transactions\n",
    "        .groupby('element_uid')['user_uid']\n",
    "        .transform('size')\n",
    "    )\n",
    "    tf = transactions['score'].values / score_sum_per_user.values\n",
    "    idf = np.log(len(score_sum_per_user) / user_count_per_element.values)\n",
    "    \n",
    "    tfidf = transactions[['user_uid', 'element_uid']].copy()\n",
    "    tfidf['value'] = tf * idf\n",
    "\n",
    "    return tfidf\n",
    "\n",
    "\n",
    "def encode_tfidf(transactions: pd.DataFrame) -> Tuple[LabelEncoder, LabelEncoder, csr_matrix]:\n",
    "    tfidf = encode_tfidf_coo(transactions)\n",
    "    \n",
    "    n_users = tfidf['user_uid'].nunique()\n",
    "    n_elements = tfidf['element_uid'].nunique()\n",
    "\n",
    "    user_encoder = LabelEncoder()\n",
    "    element_encoder = LabelEncoder()\n",
    "    user_index = user_encoder.fit_transform(transactions['user_uid'].values)\n",
    "    element_index = element_encoder.fit_transform(transactions['element_uid'].values)\n",
    "\n",
    "    tfidf_csr = csr_matrix(\n",
    "        (\n",
    "            tfidf['value'].astype('float32').values,\n",
    "            (user_index, element_index)\n",
    "        ),\n",
    "        shape=(n_users, n_elements)\n",
    "    )\n",
    "\n",
    "    return user_encoder, element_encoder, tfidf_csr\n",
    "\n",
    "\n",
    "def als_fit_predict(transactions_csr: csr_matrix):\n",
    "    transactions_csr.data = 1 + 40.0 * transactions_csr.data\n",
    "\n",
    "    als = AlternatingLeastSquares(factors=128, iterations=30, calculate_training_loss=True)\n",
    "    als.fit(transactions_csr)\n",
    "\n",
    "    recommendations_matrix, recommendations_scores = als.recommend(\n",
    "        np.arange(0, transactions_csr.shape[0]), \n",
    "        transactions_csr, \n",
    "        N=200, \n",
    "        filter_already_liked_items=True\n",
    "    )\n",
    "\n",
    "    return recommendations_matrix, recommendations_scores\n",
    "\n",
    "\n",
    "def als_recommendations_to_df(\n",
    "    recommendations_matrix: np.ndarray, \n",
    "    recommendations_scores: np.ndarray,\n",
    "    user_encoder: LabelEncoder, \n",
    "    item_encoder: LabelEncoder,\n",
    "    user_key = 'user_id',\n",
    "    item_key = 'item_id'\n",
    ") -> pd.DataFrame:\n",
    "    recommendations_indices = pd.DataFrame({\n",
    "        'user_index': np.arange(0, len(recommendations_matrix)),\n",
    "        'item_index': list(recommendations_matrix),\n",
    "        'score': list(recommendations_scores),\n",
    "    })\n",
    "\n",
    "    user_mapping = pd.DataFrame({\n",
    "        'user_index': np.arange(0, len(user_encoder.classes_)),\n",
    "        user_key: user_encoder.classes_,\n",
    "    })\n",
    "\n",
    "    item_mapping = pd.DataFrame({\n",
    "        'item_index': np.arange(0, len(item_encoder.classes_)),\n",
    "        item_key: item_encoder.classes_,\n",
    "    })\n",
    "\n",
    "    recommendations = (\n",
    "        recommendations_indices\n",
    "        .merge(\n",
    "            user_mapping,\n",
    "            on='user_index',\n",
    "            how='left',\n",
    "        )\n",
    "        .drop(columns=['user_index'])\n",
    "        .explode(['item_index', 'score'], ignore_index=True)\n",
    "        .merge(\n",
    "            item_mapping,\n",
    "            on='item_index',\n",
    "            how='left',\n",
    "        )\n",
    "        .drop(columns=['item_index'])\n",
    "    )\n",
    "\n",
    "    return recommendations\n",
    "\n",
    "\n",
    "def run_als(\n",
    "    transactions: pd.DataFrame, \n",
    "    meta: pd.DataFrame, \n",
    "    ratings: pd.DataFrame\n",
    ") -> pd.DataFrame:\n",
    "    print('Preprocess transactions')\n",
    "    transactions = add_meta_to_transactions(transactions, meta)\n",
    "    transactions = add_ratings_to_transactions(transactions, ratings)\n",
    "\n",
    "    print('Compute TF-IDF')\n",
    "    user_encoder, element_encoder, transactions_csr = \\\n",
    "        encode_tfidf(transactions)\n",
    "\n",
    "    print('Run ALS')\n",
    "    recommendations_item_indices, recommendations_scores = \\\n",
    "        als_fit_predict(transactions_csr)\n",
    "\n",
    "    print('Postprocess ALS prediction')\n",
    "    recommendations = als_recommendations_to_df(\n",
    "        recommendations_item_indices,\n",
    "        recommendations_scores,\n",
    "        user_encoder,\n",
    "        element_encoder,\n",
    "        user_key='user_uid',\n",
    "        item_key='element_uid',\n",
    "    )\n",
    "\n",
    "    return recommendations"
   ]
  },
  {
   "cell_type": "markdown",
   "metadata": {},
   "source": [
    "### Ranker code"
   ]
  },
  {
   "cell_type": "code",
   "execution_count": 19,
   "metadata": {},
   "outputs": [],
   "source": [
    "def merge_item_feature(item_features, new_feature):\n",
    "    item_features = item_features.merge(\n",
    "        new_feature,\n",
    "        on='element_uid',\n",
    "        how='left'\n",
    "    )\n",
    "    return item_features\n",
    "\n",
    "\n",
    "def merge_user_feature(iser_features, new_feature):\n",
    "    iser_features = iser_features.merge(\n",
    "        new_feature,\n",
    "        on='user_uid',\n",
    "        how='left'\n",
    "    )\n",
    "    return iser_features\n",
    "\n",
    "\n",
    "def add_item_popularity_feature(item_features: pd.DataFrame, transactions: pd.DataFrame):\n",
    "    item_occurences = (\n",
    "        transactions\n",
    "        .groupby('element_uid')\n",
    "        .size()\n",
    "        .reset_index(name='element_occurences')\n",
    "    )\n",
    "\n",
    "    item_occurences['element_popularity'] = (\n",
    "        item_occurences['element_occurences'] / \n",
    "        transactions['element_uid'].nunique()\n",
    "    )\n",
    "    item_occurences.drop(columns=['element_occurences'], inplace=True)\n",
    "\n",
    "    return merge_item_feature(item_features, item_occurences)\n",
    "\n",
    "\n",
    "def add_item_bookmark_count_feature(item_features: pd.DataFrame, bookmarks: pd.DataFrame):\n",
    "    bookmarks_per_item = (\n",
    "        bookmarks\n",
    "        .groupby('element_uid')\n",
    "        .size()\n",
    "        .reset_index(name='element_bookmark_count')\n",
    "    ) \n",
    "\n",
    "    item_features = merge_item_feature(item_features, bookmarks_per_item)\n",
    "    item_features['element_bookmark_count'].fillna(0, inplace=True)\n",
    "\n",
    "    return item_features\n",
    "\n",
    "\n",
    "def add_user_watch_count_feature(user_features: pd.DataFrame, transactions: pd.DataFrame):\n",
    "    user_watch_count = (\n",
    "        transactions\n",
    "        .groupby('user_uid')\n",
    "        .size()\n",
    "        .reset_index(name='user_watch_count')\n",
    "    )\n",
    "    return merge_user_feature(user_features, user_watch_count)\n",
    "\n",
    "\n",
    "def add_user_watch_time_std(user_features: pd.DataFrame, transactions: pd.DataFrame):\n",
    "    user_watch_time_std = (\n",
    "        transactions\n",
    "        .groupby('user_uid')['watched_time']\n",
    "        .std()\n",
    "        .reset_index(name='user_watch_time_std')\n",
    "    )\n",
    "    return merge_user_feature(user_features, user_watch_time_std)\n",
    "\n",
    "\n",
    "def generate_item_features(transactions: pd.DataFrame, bookmarks: pd.DataFrame) -> pd.DataFrame:\n",
    "    item_features = pd.DataFrame({\n",
    "        'element_uid': transactions['element_uid'].unique()\n",
    "    })\n",
    "    item_features = add_item_popularity_feature(item_features, transactions)\n",
    "    item_features = add_item_bookmark_count_feature(item_features, bookmarks)\n",
    "    return item_features\n",
    "\n",
    "\n",
    "def generate_user_features(transactions: pd.DataFrame) -> pd.DataFrame:\n",
    "    user_features = pd.DataFrame({\n",
    "        'user_uid': transactions['user_uid'].unique()\n",
    "    })\n",
    "    user_features = add_user_watch_count_feature(user_features, transactions)\n",
    "    user_features = add_user_watch_time_std(user_features, transactions)\n",
    "    return user_features\n",
    "\n",
    "\n",
    "def enrich_interactions(\n",
    "    interactions: pd.DataFrame, \n",
    "    transactions: pd.DataFrame, \n",
    "    bookmarks: pd.DataFrame\n",
    ") -> pd.DataFrame:\n",
    "    print('Generating item features')\n",
    "    item_features = generate_item_features(transactions, bookmarks)\n",
    "    \n",
    "    print('Generating user features')\n",
    "    user_features = generate_user_features(transactions)\n",
    "    \n",
    "    print('Merging features to interactions')\n",
    "    interactions_featurized = (\n",
    "        interactions\n",
    "        .merge(\n",
    "            item_features,\n",
    "            on='element_uid',\n",
    "            how='left'\n",
    "        )\n",
    "        .merge(\n",
    "            user_features,\n",
    "            on='user_uid',\n",
    "            how='left'\n",
    "        )\n",
    "    )\n",
    "\n",
    "    return interactions_featurized\n",
    "\n",
    "\n",
    "def score_interactions(\n",
    "    interactions_featurized: pd.DataFrame,\n",
    "    catboost_model: CatBoostClassifier, \n",
    ") -> pd.DataFrame:\n",
    "    interactions = interactions_featurized[['user_uid', 'element_uid']].copy()\n",
    "    features = interactions_featurized.drop(columns=['user_uid', 'element_uid'])\n",
    "    scores = catboost_model.predict_proba(features)[:, 1].flatten()\n",
    "    interactions['catboost_score'] = scores\n",
    "    return interactions\n",
    "\n",
    "\n",
    "def run_catboost(\n",
    "    interactions: pd.DataFrame, \n",
    "    transactions: pd.DataFrame, \n",
    "    bookmarks: pd.DataFrame,\n",
    "    catboost_model: CatBoostClassifier\n",
    ") -> pd.DataFrame:\n",
    "    interactions_featurized = enrich_interactions(interactions, transactions, bookmarks)\n",
    "    \n",
    "    print('Running CatBoost scoring')\n",
    "    scored_interactions = score_interactions(interactions_featurized, catboost_model)\n",
    "\n",
    "    return scored_interactions"
   ]
  },
  {
   "cell_type": "markdown",
   "metadata": {},
   "source": [
    "### Combine all together"
   ]
  },
  {
   "cell_type": "code",
   "execution_count": 8,
   "metadata": {},
   "outputs": [
    {
     "name": "stdout",
     "output_type": "stream",
     "text": [
      "Preprocess transactions\n",
      "Compute TF-IDF\n",
      "Run ALS\n"
     ]
    },
    {
     "data": {
      "application/vnd.jupyter.widget-view+json": {
       "model_id": "6da92d016f454376b455b30500de560d",
       "version_major": 2,
       "version_minor": 0
      },
      "text/plain": [
       "  0%|          | 0/30 [00:00<?, ?it/s]"
      ]
     },
     "metadata": {},
     "output_type": "display_data"
    },
    {
     "name": "stdout",
     "output_type": "stream",
     "text": [
      "Postprocess ALS prediction\n"
     ]
    }
   ],
   "source": [
    "als_prediction_full = run_als(transactions, meta, ratings)"
   ]
  },
  {
   "cell_type": "code",
   "execution_count": 21,
   "metadata": {},
   "outputs": [
    {
     "name": "stdout",
     "output_type": "stream",
     "text": [
      "Generating item features\n",
      "Generating user features\n",
      "Merging features to interactions\n",
      "Running CatBoost scoring\n"
     ]
    },
    {
     "name": "stderr",
     "output_type": "stream",
     "text": [
      "/home/user/conda/envs/hse/lib/python3.8/site-packages/catboost/core.py:1419: FutureWarning: iteritems is deprecated and will be removed in a future version. Use .items instead.\n",
      "  self._init_pool(data, label, cat_features, text_features, embedding_features, embedding_features_data, pairs, weight,\n"
     ]
    }
   ],
   "source": [
    "catboost_prediction_full = run_catboost(als_prediction_full, transactions, bookmarks, catboost_ranker)"
   ]
  },
  {
   "cell_type": "code",
   "execution_count": 25,
   "metadata": {},
   "outputs": [],
   "source": [
    "final_recommendations = (\n",
    "    catboost_prediction_full\n",
    "    .sort_values('catboost_score', ascending=False, ignore_index=True)\n",
    "    .groupby('user_uid')\n",
    "    .head(10)\n",
    ")"
   ]
  },
  {
   "cell_type": "markdown",
   "metadata": {},
   "source": [
    "### Evaluate recommendations on Kaggle test set"
   ]
  },
  {
   "cell_type": "code",
   "execution_count": 30,
   "metadata": {},
   "outputs": [],
   "source": [
    "solution = pd.read_csv('data/solution.csv')\n",
    "solution['element_uid'] = solution['element_uid'].apply(lambda x: x.split(' '))\n",
    "kaggle_test = solution.explode('element_uid', ignore_index=True)\n",
    "kaggle_test['element_uid'] = kaggle_test['element_uid'].astype('int32')"
   ]
  },
  {
   "cell_type": "markdown",
   "metadata": {},
   "source": [
    "#### ALS-only recommendations"
   ]
  },
  {
   "cell_type": "code",
   "execution_count": 31,
   "metadata": {},
   "outputs": [
    {
     "data": {
      "text/plain": [
       "{'recall': 0.07297968601014716, 'map': 0.029372680504801876}"
      ]
     },
     "execution_count": 31,
     "metadata": {},
     "output_type": "execute_result"
    }
   ],
   "source": [
    "from metrics import compute_recsys_metrics\n",
    "\n",
    "compute_recsys_metrics(\n",
    "    als_prediction_full, \n",
    "    kaggle_test, \n",
    "    k=10, \n",
    "    user_key='user_uid', \n",
    "    item_key='element_uid'\n",
    ")"
   ]
  },
  {
   "cell_type": "markdown",
   "metadata": {},
   "source": [
    "#### Two-stage model: ALS + CatBoost"
   ]
  },
  {
   "cell_type": "code",
   "execution_count": 32,
   "metadata": {},
   "outputs": [
    {
     "data": {
      "text/plain": [
       "{'recall': 0.08903546806147954, 'map': 0.036405124927073235}"
      ]
     },
     "execution_count": 32,
     "metadata": {},
     "output_type": "execute_result"
    }
   ],
   "source": [
    "from metrics import compute_recsys_metrics\n",
    "\n",
    "compute_recsys_metrics(\n",
    "    final_recommendations, \n",
    "    kaggle_test, \n",
    "    k=10, \n",
    "    user_key='user_uid', \n",
    "    item_key='element_uid'\n",
    ")"
   ]
  },
  {
   "cell_type": "markdown",
   "metadata": {},
   "source": [
    "Benifit of two-stage model:\n",
    "- Recall@10 improvement ~22%\n",
    "- MAP@10 improvement ~24%"
   ]
  }
 ],
 "metadata": {
  "kernelspec": {
   "display_name": "Python 3.8.13 ('hse')",
   "language": "python",
   "name": "python3"
  },
  "language_info": {
   "codemirror_mode": {
    "name": "ipython",
    "version": 3
   },
   "file_extension": ".py",
   "mimetype": "text/x-python",
   "name": "python",
   "nbconvert_exporter": "python",
   "pygments_lexer": "ipython3",
   "version": "3.8.13"
  },
  "orig_nbformat": 4,
  "vscode": {
   "interpreter": {
    "hash": "86d6bddbf2bc391e98622c4ecc0c90e14990495bbd802ef17ec918418bf4f97f"
   }
  }
 },
 "nbformat": 4,
 "nbformat_minor": 2
}
